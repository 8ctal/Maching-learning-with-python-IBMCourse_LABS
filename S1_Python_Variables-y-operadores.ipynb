{
  "cells": [
    {
      "cell_type": "markdown",
      "metadata": {
        "id": "ATNJqHrT8iiw"
      },
      "source": [
        "# SEMANA 1: VARIABLES Y OPERADORES\n",
        "\n",
        "**Profesor: Luis Carlos Guayacán**\n",
        "\n",
        "**Semillero MLACV - Grupo BIVL2ab**"
      ]
    },
    {
      "cell_type": "markdown",
      "metadata": {
        "id": "eZwB68Nc8iiy"
      },
      "source": [
        "**¿Qué es Python?** \n",
        "\n",
        "Python es un lenguaje sencillo de leer y escribir por su gran similitud con el lenguaje humano. Además, es multiplataforma y gratuito. Ultimamente, Python ha ganado adeptos por su sencillez y sus amplias capacidades, ya que facilita el trabajo con inteligencia artificial, big data, el aprendizaje automático y la ciencia de datos, entre otros. \n",
        "\n",
        "\n",
        "---\n",
        "\n"
      ]
    },
    {
      "cell_type": "markdown",
      "metadata": {
        "id": "b2HRIFiQ8ii0"
      },
      "source": [
        "## Variables y tipos"
      ]
    },
    {
      "cell_type": "markdown",
      "metadata": {
        "id": "QbpJlRws8ii0"
      },
      "source": [
        "### Variables"
      ]
    },
    {
      "cell_type": "markdown",
      "metadata": {
        "id": "rPEhFrpZ8ii1"
      },
      "source": [
        " Los nombres de las variables en Python pueden contener los caracteres `a-z`, `A-Z`, `0-9` y algunos caracteres especiales como `_`. Los nombres de variables normales deben comenzar con una letra. \n",
        "\n",
        "*   Por convención, los nombres de las variables comienzan con letra minúscula. \n",
        "*   Además, existen algunos palabras claves que **NO** pueden ser usados como nombres de variables. Algunas de éstas son:\n",
        "\n",
        "    *and, as, assert, break, class, continue, def, del, elif, else, except, \n",
        "    exec, finally, for, from, global, if, import, in, is, lambda, not, or,\n",
        "    pass, print, raise, return, try, while, with, yield*\n",
        "\n",
        "\n",
        "* El operador para asignar valores en Python es el\n",
        "signo igual (`=`). \n"
      ]
    },
    {
      "cell_type": "code",
      "execution_count": 11,
      "metadata": {
        "collapsed": true,
        "id": "3fE0FwjP8ii5"
      },
      "outputs": [],
      "source": [
        "# Asignemos valores a algunas variables\n",
        "\n",
        "holis = \"texto\"\n",
        "x = 1\n",
        "mi_variable = 12.2"
      ]
    },
    {
      "cell_type": "code",
      "source": [
        "# Imprimamos el valor de alguna variable de las que acabamos de crear\n",
        "print(holis)"
      ],
      "metadata": {
        "id": "pNw-5nITDsF4"
      },
      "execution_count": null,
      "outputs": []
    },
    {
      "cell_type": "markdown",
      "metadata": {
        "id": "9aD9jjZP8ii6"
      },
      "source": [
        "Si bien no es necesario especificar el tipo de variable, cada variable sí tiene un tipo asociada a ella. El tipo es \"deducido\" por Python apartir del valor que le fue asignado."
      ]
    },
    {
      "cell_type": "code",
      "execution_count": null,
      "metadata": {
        "id": "hBqlxodm8ii6"
      },
      "outputs": [],
      "source": [
        "# Imprimamos el tipo de cada variable definida previamente\n",
        "print(type(x))                # integer (número entero) \n",
        "print(type(holis))            # string (cadena de texto)\n",
        "print(type(mi_variable))      # float (número decimal)"
      ]
    },
    {
      "cell_type": "markdown",
      "metadata": {
        "id": "kNx9aZ1b8ii6"
      },
      "source": [
        "Si asignamos un nuevo valor a una variable, su tipo puede cambiar."
      ]
    },
    {
      "cell_type": "code",
      "execution_count": null,
      "metadata": {
        "collapsed": true,
        "id": "pd5mikFW8ii7"
      },
      "outputs": [],
      "source": [
        "# Reescribimos el valor de la variable\n",
        "x = \"Suánfonson\"\n",
        "\n",
        "# e imprimimos el tipo de variable\n",
        "type(x)"
      ]
    },
    {
      "cell_type": "markdown",
      "metadata": {
        "id": "JaNPz4nN8ii7"
      },
      "source": [
        "Si tratamos de usar una variable que no ha sido definida obtenemos un mensaje de error (`NameError`):"
      ]
    },
    {
      "cell_type": "code",
      "execution_count": null,
      "metadata": {
        "id": "YyCZ-0Bu8ii8"
      },
      "outputs": [],
      "source": [
        "# Va ha salir un mensaje de error, está bien... No entrar en pánico\n",
        "print(y)"
      ]
    },
    {
      "cell_type": "markdown",
      "source": [
        "* Los mensajes de error de Python suelen ser \"fáciles\" de interpretar; basta con leerlo y traducirlo.\n",
        "*Si no entiendes el mensaje de error puedes copiarlo y buscarlo en Google (hay plataformas como Stack Overflow dedicada a resolver dudas de programación de todo nivel)."
      ],
      "metadata": {
        "id": "fBVBJjOuHDEB"
      }
    },
    {
      "cell_type": "markdown",
      "metadata": {
        "id": "_xTsQ7Mg8ii8"
      },
      "source": [
        "### Tipos Fundamentales"
      ]
    },
    {
      "cell_type": "markdown",
      "metadata": {
        "id": "87y8x6gL8ii8"
      },
      "source": [
        "Hay varios tipos de variables en Python. Algunos de los más comúnes son:\n",
        "- Booleano (bool)\n",
        "- Entero (int)\n",
        "- Flotante (float)"
      ]
    },
    {
      "cell_type": "code",
      "execution_count": null,
      "metadata": {
        "id": "OEi_petf8ii9"
      },
      "outputs": [],
      "source": [
        "# booleanos\n",
        "b1 = True\n",
        "b2 = False\n",
        "\n",
        "type(b1)"
      ]
    },
    {
      "cell_type": "code",
      "execution_count": null,
      "metadata": {
        "id": "InX1EPRq8ii9"
      },
      "outputs": [],
      "source": [
        "# enteros\n",
        "x = 1\n",
        "type(x)"
      ]
    },
    {
      "cell_type": "code",
      "execution_count": null,
      "metadata": {
        "id": "xVOtfMqL8ii9"
      },
      "outputs": [],
      "source": [
        "# flotantes\n",
        "x = 1.0\n",
        "type(x)"
      ]
    },
    {
      "cell_type": "markdown",
      "source": [
        "En las próximas semanas veremos otros tipos de variables muy importantes"
      ],
      "metadata": {
        "id": "8rnGUXQXN0Bu"
      }
    },
    {
      "cell_type": "markdown",
      "metadata": {
        "id": "NXKpX1DO8ijC"
      },
      "source": [
        "## Operadores y comparaciones\n",
        "\n",
        "La mayoría de los operadores y las comparaciones en Python funcionan de manera muy intuitiva:\n",
        "\n",
        "* Operadores aritméticos `+`, `-`, `*`, `/`, `//` (división entera), '**' potencia\n"
      ]
    },
    {
      "cell_type": "code",
      "execution_count": null,
      "metadata": {
        "id": "pnqZgI2b8ijC"
      },
      "outputs": [],
      "source": [
        "print(1 + 2)\n",
        "print(1 - 2)\n",
        "print(1*2)\n",
        "print(1 / 2)"
      ]
    },
    {
      "cell_type": "code",
      "execution_count": null,
      "metadata": {
        "id": "VM4eS9jt8ijD"
      },
      "outputs": [],
      "source": [
        "# Si alguno de los números es un flotante (decimal)...\n",
        "# el resultado también lo será\n",
        "\n",
        "print(1 + 2.0)\n",
        "print(1.0 - 2)\n",
        "print(1.0*2)\n",
        "print(1.0 / 2.0)"
      ]
    },
    {
      "cell_type": "code",
      "execution_count": null,
      "metadata": {
        "id": "-nsCNkaR8ijD"
      },
      "outputs": [],
      "source": [
        "# División entera de dos númenos flotantes\n",
        "# Nos devuelve la parte entera de la división\n",
        "print(3.0 // 2.0)"
      ]
    },
    {
      "cell_type": "code",
      "execution_count": null,
      "metadata": {
        "id": "4f4BP29Q8ijD"
      },
      "outputs": [],
      "source": [
        "# Atención! El operador de potencia en Python no es ^, sino **\n",
        "print(2 ** 3)"
      ]
    },
    {
      "cell_type": "markdown",
      "metadata": {
        "id": "VX_Gbnhi8ijD"
      },
      "source": [
        "* Los operadores booleanos se escriben como palabras: `and`, `not`, `or`. "
      ]
    },
    {
      "cell_type": "code",
      "execution_count": null,
      "metadata": {
        "id": "3ySdnGWx8ijD"
      },
      "outputs": [],
      "source": [
        "# Verdadero y falso es... falso!\n",
        "True and False"
      ]
    },
    {
      "cell_type": "code",
      "execution_count": null,
      "metadata": {
        "id": "Gf3NbFdP8ijE"
      },
      "outputs": [],
      "source": [
        "# Si negamos falso nos da... verdadero!\n",
        "not False"
      ]
    },
    {
      "cell_type": "code",
      "execution_count": null,
      "metadata": {
        "id": "U4GJMm908ijE"
      },
      "outputs": [],
      "source": [
        "# Verdadero o falso es... verdadero!\n",
        "True or False"
      ]
    },
    {
      "cell_type": "markdown",
      "metadata": {
        "id": "mKuDuWES8ijE"
      },
      "source": [
        "* Operadores de comparación `>`, `<`, `>=` (mayor o igual), `<=` (menor o igual), `==` igualdad, `es` identico."
      ]
    },
    {
      "cell_type": "code",
      "execution_count": null,
      "metadata": {
        "id": "KnznokLX8ijE"
      },
      "outputs": [],
      "source": [
        "print(2 > 1)     # 2 es mayor a 1? \n",
        "print(2 < 1)     # 2 es menor a 1?\n",
        "print(2 > 2)     # 2 es mayor a 2?\n",
        "print(2 == 2)    # 2 es igual a 2?\n",
        "print(2 >= 2)    # 2 es mayor o igual a 2?"
      ]
    },
    {
      "cell_type": "markdown",
      "source": [
        "* Fíjate que = se usa para asignarle un valor a una variable. \n",
        "* Mientras que == se usa para comparar si dos valores son iguales."
      ],
      "metadata": {
        "id": "WEHOt-X5ME4P"
      }
    },
    {
      "cell_type": "markdown",
      "metadata": {
        "id": "H5QUp98R8ijU"
      },
      "source": [
        "# Ejercicio No. 1\n",
        "\n",
        "Practica. Juega con lo visto en este notebook.\n",
        "\n",
        "Crea variables, imprímelas, reescríbelas, compara valores, etc.\n"
      ]
    },
    {
      "cell_type": "code",
      "execution_count": null,
      "metadata": {
        "collapsed": true,
        "id": "il1to_dL8ijV"
      },
      "outputs": [],
      "source": [
        "# Practica"
      ]
    },
    {
      "cell_type": "code",
      "source": [
        ""
      ],
      "metadata": {
        "id": "B1awPnY_No0A"
      },
      "execution_count": null,
      "outputs": []
    },
    {
      "cell_type": "markdown",
      "source": [
        "***Si llegas a tener preguntas relacionadas a Python, no olvides que puedes realizarlas en el foro de Moodle***"
      ],
      "metadata": {
        "id": "5AsMpuxgNYAd"
      }
    }
  ],
  "metadata": {
    "kernelspec": {
      "display_name": "Python 2",
      "language": "python",
      "name": "python2"
    },
    "language_info": {
      "codemirror_mode": {
        "name": "ipython",
        "version": 2
      },
      "file_extension": ".py",
      "mimetype": "text/x-python",
      "name": "python",
      "nbconvert_exporter": "python",
      "pygments_lexer": "ipython2",
      "version": "2.7.13"
    },
    "colab": {
      "name": "S1-Python_Intro.ipynb",
      "provenance": [],
      "collapsed_sections": []
    }
  },
  "nbformat": 4,
  "nbformat_minor": 0
}