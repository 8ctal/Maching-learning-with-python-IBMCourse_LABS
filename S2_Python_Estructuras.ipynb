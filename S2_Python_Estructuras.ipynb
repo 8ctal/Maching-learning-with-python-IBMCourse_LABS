{
  "cells": [
    {
      "cell_type": "markdown",
      "metadata": {
        "id": "5vioZqg1lSan"
      },
      "source": [
        "# SEMANA 2: Cadenas de texto y Extructuras de datos\n",
        "\n",
        "**Profesor: Luis Carlos Guayacán**\n",
        "\n",
        "**Semillero MLACV - Grupo BIVL2ab**"
      ]
    },
    {
      "cell_type": "markdown",
      "metadata": {
        "id": "wRJcE_CdlSas"
      },
      "source": [
        "<u>Introducción:</u> El valor de algunos tipos de variables puede estar compuesto de varios elementos. Por ejemplo:\n",
        "- Las cadenas de texto o Strings\n",
        "- Las listas\n",
        "- Las tuplas\n",
        "- Los diccionarios\n",
        "\n"
      ]
    },
    {
      "cell_type": "markdown",
      "metadata": {
        "id": "07IVdOA6lSa5"
      },
      "source": [
        "## Tipos de variables\n",
        "- String (str)\n",
        "- Arreglo ordenado (list)\n",
        "- Arreglo ordenado inmutable (tuple)\n",
        "- Lista desordenada de llaves y variables (dict)"
      ]
    },
    {
      "cell_type": "markdown",
      "source": [
        "### Cadenas de texto (str)"
      ],
      "metadata": {
        "id": "h0qgmwHqLRw8"
      }
    },
    {
      "cell_type": "markdown",
      "source": [
        "Para escribir una cadena de texto usamos comillas dobles o comillas simples. Por ejemplo\n",
        "\n",
        "saludo = \"Hola mundo\"\n",
        "\n",
        "o\n",
        "\n",
        "saludo = 'Hola mundo'\n",
        "\n",
        "Las dos opciones son igualmente válidas"
      ],
      "metadata": {
        "id": "M4XaXJyYLi6I"
      }
    },
    {
      "cell_type": "code",
      "execution_count": null,
      "metadata": {
        "id": "i3RUnHZYlSa6"
      },
      "outputs": [],
      "source": [
        "# Definimos la variable \"saludo\" con un valor de tipo string\n",
        "saludo = 'Hola mundo'\n",
        "\n",
        "# Imprimimos el valor de la variable seguida de su tipo\n",
        "print(f'La cadena \"{saludo}\" es del tipo {type(saludo)}')"
      ]
    },
    {
      "cell_type": "code",
      "execution_count": null,
      "metadata": {
        "id": "D96aaeGllSa6"
      },
      "outputs": [],
      "source": [
        "# longitud de la cadena: el número de elementos que contiene\n",
        "longi = len(saludo)\n",
        "print(f'La longitud de la cadena de texto es: {longi}')"
      ]
    },
    {
      "cell_type": "markdown",
      "source": [
        "Al usar la función \"len\" vemos que 'Hola mundo' está compuesto de 10 elementos (caracteres).\n",
        "\n",
        "1. H\n",
        "2. o\n",
        "3. l\n",
        "4. a\n",
        "5. (espacio en blanco)\n",
        "6. m\n",
        "7. u\n",
        "8. n\n",
        "9. d\n",
        "10. o\n",
        "\n",
        "\n",
        "Nota que **el espacio en blanco también es un caracter**"
      ],
      "metadata": {
        "id": "vTUBK4PzqOyu"
      }
    },
    {
      "cell_type": "markdown",
      "source": [
        "Sin embargo, en Python la numeración de cada elemento inicia desde cero. Es decir que el **índice** de cada caracter será:\n",
        "\n",
        "0. H\n",
        "1. o\n",
        "2. l\n",
        "3. a\n",
        "4. (espacio en blanco)\n",
        "5. m\n",
        "6. u\n",
        "7. n\n",
        "8. d\n",
        "9. o\n",
        "\n",
        "\n",
        "Para acceder a cada uno de los elementos de la cadena de texto usamos los corchetes [ ] y en su interior colocamos el índice correspondiente."
      ],
      "metadata": {
        "id": "0Lkh4aMBGLLL"
      }
    },
    {
      "cell_type": "code",
      "source": [
        "# imprimamos toda la variable \"saludo\"\n",
        "print(saludo)\n",
        "\n",
        "# imprimamos el primer elemento de la variable \"saludo\"\n",
        "print(f'El primer elemento de la cadena es {saludo[0]}')\n",
        "\n",
        "# imprimamos la letra 'a' de la palabra 'Hola'\n",
        "print(saludo[3])\n",
        "\n",
        "# imprimamos el último elemento de la variable \"saludo\"\n",
        "print(f'El último elemento de la cadena es {saludo[9]}')\n",
        "\n",
        "# También puedes acceder al último elemento con el índice -1\n",
        "# Esto es especialmente útil si no conoces la longitud de la cadena\n",
        "print(f'El último elemento de la cadena es {saludo[-1]}')"
      ],
      "metadata": {
        "id": "-919zs6NGEaQ"
      },
      "execution_count": null,
      "outputs": []
    },
    {
      "cell_type": "markdown",
      "source": [
        "Esto de acceder a los elementos usando sus índices se llama **indexación**"
      ],
      "metadata": {
        "id": "-7N2EHClXR_V"
      }
    },
    {
      "cell_type": "markdown",
      "metadata": {
        "id": "D0m0V-OwlSbA"
      },
      "source": [
        "También podemos extraer una parte de una cadena usando la sintaxis `[desde:hasta]`, que extrae caracteres entre los índices  `desde` y `hasta`:"
      ]
    },
    {
      "cell_type": "code",
      "source": [
        "print(saludo[0:4])\n",
        "print(saludo[5:9])"
      ],
      "metadata": {
        "id": "ISEyMecohJ0E"
      },
      "execution_count": null,
      "outputs": []
    },
    {
      "cell_type": "markdown",
      "source": [
        "Nota que al escribir \"saludo [5:9]\" no se imprimió la letra 'o'. Esto se debe a que el último elemento, en este caso el 9, no se tiene en cuenta.\n",
        "\n",
        "Si deseamos imprimir la palabra mundo tendríamos que escribir\n",
        "\"saludo [5:10]\" (apesar de que no existe el índice 10)."
      ],
      "metadata": {
        "id": "JoKbaaNShczz"
      }
    },
    {
      "cell_type": "code",
      "source": [
        "print(saludo[5:10])"
      ],
      "metadata": {
        "id": "JrARvsPKkJgw"
      },
      "execution_count": null,
      "outputs": []
    },
    {
      "cell_type": "markdown",
      "metadata": {
        "id": "sEQ6uRuolSbB"
      },
      "source": [
        "Si omitimos `desde` o bien `hasta` de `[desde:hasta]`, por defecto se entiende que se refiere al comienzo y/o al fin de la cadena, respectivamente:"
      ]
    },
    {
      "cell_type": "code",
      "execution_count": null,
      "metadata": {
        "id": "5BHuXYfMlSbB"
      },
      "outputs": [],
      "source": [
        "# saludo[:5] es equivalente a saludo[0:5]\n",
        "print(saludo[:5])\n",
        "\n",
        "# saludo[6:] es equivalente a saludo[6:10]\n",
        "print(saludo[6:])\n"
      ]
    },
    {
      "cell_type": "markdown",
      "metadata": {
        "id": "wQG9EHSNlSbC"
      },
      "source": [
        "Podemos también definir el tamaño del paso usando la sintaxis `[desde:hasta:paso]` (el valor por defecto de `paso` es 1, como ya vismo):"
      ]
    },
    {
      "cell_type": "code",
      "execution_count": null,
      "metadata": {
        "id": "X1vwSrxRlSbC"
      },
      "outputs": [],
      "source": [
        "# Desde el inicio hasta el final de a uno en uno\n",
        "print(saludo[::1])\n",
        "\n",
        "# Desde el inicio hasta el final de dos en dos\n",
        "print(saludo[::2])\n",
        "\n",
        "# Desde el inicio hasta el indice 7 de a dos en dos\n",
        "print(saludo[:8:2])\n",
        "\n",
        "# Desde el indice 1 hasta el indice 5 de a dos en dos\n",
        "print(saludo[1:6:2])\n",
        "\n",
        "# Desde el inicio hasta el final de a tres en tres\n",
        "print(saludo[::3])"
      ]
    },
    {
      "cell_type": "markdown",
      "source": [
        "### Listas (list)"
      ],
      "metadata": {
        "id": "dvMIu8HPLYb4"
      }
    },
    {
      "cell_type": "markdown",
      "source": [
        "Para escribir una lista usamos corchetes y separamos cáda elemento por una coma. Por ejemplo:\n",
        "\n",
        "mi_lista = [1,2,3,4,5]"
      ],
      "metadata": {
        "id": "yLwV1adiLeDT"
      }
    },
    {
      "cell_type": "code",
      "execution_count": null,
      "metadata": {
        "id": "LAVo1Qw1lSa6"
      },
      "outputs": [],
      "source": [
        "mi_lista = [1,2,3,4,5]\n",
        "print(mi_lista)"
      ]
    },
    {
      "cell_type": "markdown",
      "source": [
        "Podemos indexar cada elemento de la lista de la misma forma que en las cadenas de texto"
      ],
      "metadata": {
        "id": "j3_GZz6WUCti"
      }
    },
    {
      "cell_type": "code",
      "source": [
        "# imprimamos el primer elemento de la lista\n",
        "print(mi_lista[0])\n",
        "\n",
        "# imprimamos el segundo elemento de la lista\n",
        "print(mi_lista[1])\n",
        "\n",
        "# imprimamos el último elemento de la lista\n",
        "print(mi_lista[-1])"
      ],
      "metadata": {
        "id": "izViJKQHUSi9"
      },
      "execution_count": null,
      "outputs": []
    },
    {
      "cell_type": "code",
      "execution_count": null,
      "metadata": {
        "scrolled": true,
        "id": "_R0XAN-TlSa7"
      },
      "outputs": [],
      "source": [
        "# Si queremos agregar un elemento más a la lista podemos \n",
        "# hacerlo de la siguiente forma\n",
        "mi_lista+[6]"
      ]
    },
    {
      "cell_type": "code",
      "source": [
        "# Veamos si la lista cambió\n",
        "print(mi_lista)"
      ],
      "metadata": {
        "id": "BEWAfvNyXtuH"
      },
      "execution_count": null,
      "outputs": []
    },
    {
      "cell_type": "code",
      "source": [
        "# La lista no cambió porque no asignamos el resultado\n",
        "# a la variable. Así\n",
        "mi_lista = mi_lista+[6]\n",
        "print(mi_lista)"
      ],
      "metadata": {
        "id": "m6fV8zi1X2u7"
      },
      "execution_count": null,
      "outputs": []
    },
    {
      "cell_type": "code",
      "source": [
        "# Veamos que ahora la lista sí cambió\n",
        "print(mi_lista)"
      ],
      "metadata": {
        "id": "B0tjiHT0YD2e"
      },
      "execution_count": null,
      "outputs": []
    },
    {
      "cell_type": "markdown",
      "source": [
        "Otra forma de agregar elementos a una lista es usando el método \"append\". Al usar este método no es necesario asignar el resultado a la variable. Es decir, NO ES NECESARIO HACER ESTO:\n",
        "\n",
        "mi_lista = mi_lista.append(7)"
      ],
      "metadata": {
        "id": "NJ7mpLhGY1x3"
      }
    },
    {
      "cell_type": "code",
      "execution_count": null,
      "metadata": {
        "id": "j8WRVpZvlSa7"
      },
      "outputs": [],
      "source": [
        "# La manera correcta de usar append es la siguiente\n",
        "mi_lista.append(7)\n",
        "print(mi_lista)"
      ]
    },
    {
      "cell_type": "markdown",
      "metadata": {
        "id": "k9gtmhd5lSbD"
      },
      "source": [
        "Los elementos en una lista no requieren ser del mismo tipo:"
      ]
    },
    {
      "cell_type": "code",
      "execution_count": null,
      "metadata": {
        "id": "NbBBQUhblSbD"
      },
      "outputs": [],
      "source": [
        "# [entero, cadena, flotante]\n",
        "l = [1, 'soyUnaCadena', 1.0]\n",
        "print(l)"
      ]
    },
    {
      "cell_type": "code",
      "source": [
        "# Podemos indexarlas al igual que las cadenas\n",
        "print(mi_lista[0:3])\n",
        "print(mi_lista[::2])"
      ],
      "metadata": {
        "id": "9_MNHkOImY4z"
      },
      "execution_count": null,
      "outputs": []
    },
    {
      "cell_type": "markdown",
      "metadata": {
        "id": "0dziXN3OlSbE"
      },
      "source": [
        "Las listas juegan un rol muy importante en Python y son, por ejemplo, usadas en bucles y otras estructuras de control de flujo. Existan muchas funciones convenientes para generar listas de varios tipos, por ejemplo la función `range`:"
      ]
    },
    {
      "cell_type": "code",
      "execution_count": null,
      "metadata": {
        "id": "j3VjDzbWlSbE"
      },
      "outputs": [],
      "source": [
        "desde = 10\n",
        "hasta = 30\n",
        "paso = 2\n",
        "\n",
        "range(desde, hasta, paso)"
      ]
    },
    {
      "cell_type": "code",
      "execution_count": null,
      "metadata": {
        "id": "mU8MHDuTlSbE"
      },
      "outputs": [],
      "source": [
        "list(range(-10, 10))"
      ]
    },
    {
      "cell_type": "markdown",
      "metadata": {
        "id": "KZKKaOCZlSbF"
      },
      "source": [
        "#### Agregando, insertando, modificando, y removiendo elementos de listas"
      ]
    },
    {
      "cell_type": "code",
      "execution_count": null,
      "metadata": {
        "id": "QLa_krKdlSbF"
      },
      "outputs": [],
      "source": [
        "# crea una nueva lista vacía\n",
        "l = []\n",
        "\n",
        "# agrega un elemento usando `append`\n",
        "l.append(\"A\")\n",
        "l.append(\"d\")\n",
        "l.append(\"d\")\n",
        "\n",
        "print(l)"
      ]
    },
    {
      "cell_type": "markdown",
      "metadata": {
        "id": "gOCE08dVlSbF"
      },
      "source": [
        "Podemos modificar listas asignando nuevos valores a los elementos de la lista. En lenguaje técnico se dice que la lista es *mutable*."
      ]
    },
    {
      "cell_type": "code",
      "execution_count": null,
      "metadata": {
        "id": "D--Bk66WlSbF"
      },
      "outputs": [],
      "source": [
        "l[1] = \"p\"\n",
        "l[2] = \"p\"\n",
        "\n",
        "print(l)"
      ]
    },
    {
      "cell_type": "code",
      "execution_count": null,
      "metadata": {
        "id": "AMRqEMNSlSbG"
      },
      "outputs": [],
      "source": [
        "l[1:3] = [\"d\", \"d\"]\n",
        "\n",
        "print(l)"
      ]
    },
    {
      "cell_type": "markdown",
      "metadata": {
        "id": "Ll96vd8tlSbG"
      },
      "source": [
        "Insertar un elemento en una posición específica `insert`"
      ]
    },
    {
      "cell_type": "code",
      "execution_count": null,
      "metadata": {
        "id": "qLm2FYPulSbG"
      },
      "outputs": [],
      "source": [
        "l.insert(0, \"i\")\n",
        "l.insert(1, \"n\")\n",
        "l.insert(2, \"s\")\n",
        "l.insert(3, \"e\")\n",
        "l.insert(4, \"r\")\n",
        "l.insert(5, \"t\")\n",
        "\n",
        "print(l)"
      ]
    },
    {
      "cell_type": "markdown",
      "metadata": {
        "id": "M529cptElSbG"
      },
      "source": [
        "Eliminar el primer elemento con un valor específico usando 'remove'"
      ]
    },
    {
      "cell_type": "code",
      "execution_count": null,
      "metadata": {
        "id": "mcPgTXc2lSbG"
      },
      "outputs": [],
      "source": [
        "l.remove(\"A\")\n",
        "\n",
        "print(l)"
      ]
    },
    {
      "cell_type": "markdown",
      "metadata": {
        "id": "MqpDhNhklSbH"
      },
      "source": [
        "Eliminar un elemento en una posición específica usando `del`:"
      ]
    },
    {
      "cell_type": "markdown",
      "metadata": {
        "id": "nsOCmGXwlSbH"
      },
      "source": [
        "Puede introducir `help(list)` para más detalles, o leer la documentación en la red"
      ]
    },
    {
      "cell_type": "markdown",
      "source": [
        "### Tuplas (tuple)"
      ],
      "metadata": {
        "id": "HkxNBum2UoOl"
      }
    },
    {
      "cell_type": "markdown",
      "metadata": {
        "id": "Ynmw4ByJlSbH"
      },
      "source": [
        "Tuplas son similares a las listas, excepto que ellas no pueden ser modificadas una vez creadas, es decir, son *inmutables*. \n",
        "\n",
        "En Python, las tuplas son creadas usando la sintaxis `(..., ..., ...)`, o incluso `..., ...`:"
      ]
    },
    {
      "cell_type": "code",
      "execution_count": null,
      "metadata": {
        "id": "DxF_84Z7lSa7",
        "colab": {
          "base_uri": "https://localhost:8080/"
        },
        "outputId": "a4c79546-921d-40d6-98e6-459d02cae004"
      },
      "outputs": [
        {
          "output_type": "execute_result",
          "data": {
            "text/plain": [
              "(1, 2, 3)"
            ]
          },
          "metadata": {},
          "execution_count": 24
        }
      ],
      "source": [
        "my_tuple = (1,2,3)\n",
        "my_tuple"
      ]
    },
    {
      "cell_type": "code",
      "execution_count": null,
      "metadata": {
        "id": "CdkYYg5tlSbH"
      },
      "outputs": [],
      "source": [
        "punto = (10, 20)\n",
        "\n",
        "print(punto, type(punto))"
      ]
    },
    {
      "cell_type": "code",
      "execution_count": null,
      "metadata": {
        "id": "_oiVUA4NlSbH"
      },
      "outputs": [],
      "source": [
        "punto = 10, 20\n",
        "\n",
        "print(punto, type(punto))"
      ]
    },
    {
      "cell_type": "markdown",
      "metadata": {
        "id": "pk8ezc4IlSbH"
      },
      "source": [
        "Podemos separar una tupla asignandola a una lista de variables separadas por coma:"
      ]
    },
    {
      "cell_type": "code",
      "execution_count": null,
      "metadata": {
        "id": "LLdtKf1SlSbI"
      },
      "outputs": [],
      "source": [
        "x, y = punto\n",
        "\n",
        "print(\"x =\", x)\n",
        "print(\"y =\", y)"
      ]
    },
    {
      "cell_type": "markdown",
      "metadata": {
        "id": "z3B6ZF3MlSbI"
      },
      "source": [
        "Si intentamos asignar un nuevo valor a un elemento de una tupla obtenemos un error porque... LAS TUPLAS SON INMUTABLES."
      ]
    },
    {
      "cell_type": "code",
      "execution_count": null,
      "metadata": {
        "id": "7sku8fXOlSbI"
      },
      "outputs": [],
      "source": [
        "punto[0] = 20"
      ]
    },
    {
      "cell_type": "markdown",
      "source": [
        "### Diccionarios (dict)"
      ],
      "metadata": {
        "id": "yWkgceNVUs2N"
      }
    },
    {
      "cell_type": "markdown",
      "metadata": {
        "id": "YHjo57P_lSbI"
      },
      "source": [
        "\n",
        "\n",
        "Dictionarios son también como listas, excepto que cada elemento es un par clave-valor. La sintaxis de los diccionarios es `{clave1 : valor1, ...}`:"
      ]
    },
    {
      "cell_type": "code",
      "source": [
        "# Creamos un diccionario\n",
        "notas = {\"parcial1\" : 1.0,\n",
        "         \"parcial2\" : 3.1,\n",
        "         \"parcial3\" : 2.2,}\n",
        "\n",
        "# Imprimimos el diccionario creado\n",
        "print(notas)\n"
      ],
      "metadata": {
        "id": "M7TnJlT_8nNS"
      },
      "execution_count": null,
      "outputs": []
    },
    {
      "cell_type": "markdown",
      "source": [
        "Para acceder a cada uno de los valores del diccionario (indexar) NO UTILIZAMOS índices. Lo hacemos utilizando las claves."
      ],
      "metadata": {
        "id": "bNZrIy0m9b-c"
      }
    },
    {
      "cell_type": "code",
      "source": [
        "print(notas['parcial2'])\n"
      ],
      "metadata": {
        "id": "KXH68e0q9szf"
      },
      "execution_count": null,
      "outputs": []
    },
    {
      "cell_type": "code",
      "source": [
        "# Si intentamos usar un índice en lugar de la clave obtenemos un error\n",
        "print(notas[1])"
      ],
      "metadata": {
        "id": "blS3jLSJ-Bsl"
      },
      "execution_count": null,
      "outputs": []
    },
    {
      "cell_type": "markdown",
      "source": [
        "Un ejemplo más:"
      ],
      "metadata": {
        "id": "B3quxnbU-PUm"
      }
    },
    {
      "cell_type": "code",
      "execution_count": null,
      "metadata": {
        "id": "4W6PxEf0lSbI"
      },
      "outputs": [],
      "source": [
        "parametros = {\"parametro1\" : 1.0,\n",
        "              \"parametro2\" : 2.0,\n",
        "              \"parametro3\" : 3.0,}\n",
        "\n",
        "print(parametros)"
      ]
    },
    {
      "cell_type": "code",
      "execution_count": null,
      "metadata": {
        "id": "pWVqd_A6lSbJ"
      },
      "outputs": [],
      "source": [
        "print(\"parametro1 = \" + str(parametros[\"parametro1\"]))\n",
        "print(\"parametro2 = \" + str(parametros[\"parametro2\"]))\n",
        "print(\"parametro3 = \" + str(parametros[\"parametro3\"]))"
      ]
    },
    {
      "cell_type": "markdown",
      "source": [
        "Los valores pueden ser de diferente tipo:"
      ],
      "metadata": {
        "id": "SAXEvVqj-UUy"
      }
    },
    {
      "cell_type": "code",
      "execution_count": null,
      "metadata": {
        "id": "xrQ7G96LlSa8"
      },
      "outputs": [],
      "source": [
        "my_dict={\"name\":\"Lenguajes\",\"porcentaje\":20}\n",
        "print(my_dict)"
      ]
    },
    {
      "cell_type": "code",
      "execution_count": null,
      "metadata": {
        "id": "-Ofzq4aAlSa8"
      },
      "outputs": [],
      "source": [
        "print(my_dict[\"name\"])"
      ]
    },
    {
      "cell_type": "code",
      "execution_count": 45,
      "metadata": {
        "id": "DnZWlDcZlSa8",
        "colab": {
          "base_uri": "https://localhost:8080/"
        },
        "outputId": "51d2fe45-f071-4988-a904-ba29f8b5c51d"
      },
      "outputs": [
        {
          "output_type": "stream",
          "name": "stdout",
          "text": [
            "{'name': 'Lenguajes', 'porcentaje': 20, 'niveles': 4}\n"
          ]
        }
      ],
      "source": [
        "# Podemos agregar un nuevo elemento de la siguiente forma\n",
        "my_dict[\"niveles\"] = 4\n",
        "print(my_dict)"
      ]
    },
    {
      "cell_type": "code",
      "execution_count": null,
      "metadata": {
        "id": "1HRW0_ZClSa8"
      },
      "outputs": [],
      "source": [
        "# Podemos imprimir todos los valores del diccionario\n",
        "my_dict.values()"
      ]
    },
    {
      "cell_type": "code",
      "execution_count": null,
      "metadata": {
        "id": "1qMPEX-olSa9"
      },
      "outputs": [],
      "source": [
        "# Podemos imprimir todas las claves del diccionario\n",
        "my_dict.keys()"
      ]
    },
    {
      "cell_type": "markdown",
      "source": [
        ""
      ],
      "metadata": {
        "id": "2o1lh4Cu_BJH"
      }
    },
    {
      "cell_type": "code",
      "execution_count": null,
      "metadata": {
        "id": "s70v_zmdlSbJ"
      },
      "outputs": [],
      "source": [
        "# Modificamos dos valores del diccionario\n",
        "parametros[\"parametro1\"] = \"A\"\n",
        "parametros[\"parametro2\"] = \"B\"\n",
        "\n",
        "# Agregamos una nueva entrada\n",
        "parametros[\"parametro4\"] = \"D\"\n",
        "\n",
        "# Imprimimos\n",
        "print(\"parametro1 = \" + str(parametros[\"parametro1\"]))\n",
        "print(\"parametro2 = \" + str(parametros[\"parametro2\"]))\n",
        "print(\"parametro3 = \" + str(parametros[\"parametro3\"]))\n",
        "print(\"parametro4 = \" + str(parametros[\"parametro4\"]))"
      ]
    },
    {
      "cell_type": "markdown",
      "metadata": {
        "id": "tUR7rt8JlSbO"
      },
      "source": [
        "# Ejercicio \n",
        "\n",
        "Practica lo aprendido"
      ]
    },
    {
      "cell_type": "code",
      "execution_count": null,
      "metadata": {
        "collapsed": true,
        "id": "l7tUF4cXlSbP"
      },
      "outputs": [],
      "source": [
        "# Inicio de código\n",
        "\n"
      ]
    },
    {
      "cell_type": "markdown",
      "source": [
        "***Si llegas a tener preguntas relacionadas a Python, no olvides que puedes realizarlas en el foro de Moodle***"
      ],
      "metadata": {
        "id": "XYtE3cs8m4Ma"
      }
    }
  ],
  "metadata": {
    "kernelspec": {
      "display_name": "Python 2",
      "language": "python",
      "name": "python2"
    },
    "language_info": {
      "codemirror_mode": {
        "name": "ipython",
        "version": 2
      },
      "file_extension": ".py",
      "mimetype": "text/x-python",
      "name": "python",
      "nbconvert_exporter": "python",
      "pygments_lexer": "ipython2",
      "version": "2.7.13"
    },
    "colab": {
      "name": "S2-Python.ipynb",
      "provenance": [],
      "collapsed_sections": [
        "KZKKaOCZlSbF"
      ]
    }
  },
  "nbformat": 4,
  "nbformat_minor": 0
}