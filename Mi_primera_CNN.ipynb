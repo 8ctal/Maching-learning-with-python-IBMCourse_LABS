{
  "nbformat": 4,
  "nbformat_minor": 0,
  "metadata": {
    "colab": {
      "name": "Mi primera CNN.ipynb",
      "provenance": [],
      "collapsed_sections": [
        "yK_m2HIcAJxt"
      ]
    },
    "kernelspec": {
      "name": "python3",
      "display_name": "Python 3"
    },
    "language_info": {
      "name": "python"
    }
  },
  "cells": [
    {
      "cell_type": "markdown",
      "source": [
        "# FULLY CONNECTED VS. CONVOLUTIONAL NEURAL NETWORK"
      ],
      "metadata": {
        "id": "yfh22rIA_4Tu"
      }
    },
    {
      "cell_type": "markdown",
      "source": [
        "## DATOS"
      ],
      "metadata": {
        "id": "yK_m2HIcAJxt"
      }
    },
    {
      "cell_type": "code",
      "metadata": {
        "id": "AOwSmuikM2kG"
      },
      "source": [
        "# Importamos las librerías necesarias\n",
        "import tensorflow as tf\n",
        "import matplotlib.pyplot as plt\n",
        "import cv2\n",
        "import numpy as np\n",
        "import random"
      ],
      "execution_count": 2,
      "outputs": []
    },
    {
      "cell_type": "code",
      "source": [
        "# Cargamos los datos (x) de entrenamiento y test junto a sus etiquetas (y)\n",
        "datos = tf.keras.datasets.mnist\n",
        "(x_train, y_train), (x_test, y_test) = datos.load_data()\n",
        "\n",
        "# Imprimimos el número de muestras para entrenamiento y test\n",
        "print(f'Número de muestras para entrenar: {len(x_train)}')\n",
        "print(f'Número de muestras para probar: {len(x_test)}')"
      ],
      "metadata": {
        "id": "nZ2Nwt8HZC_H"
      },
      "execution_count": null,
      "outputs": []
    },
    {
      "cell_type": "code",
      "source": [
        "# Visualizamos una muestra aleatoria del conjunto de entrenamiento\n",
        "indice = random.randint(0, len(x_train))\n",
        "plt.axis('off')\n",
        "plt.imshow(x_train[indice], cmap=plt.cm.binary_r);"
      ],
      "metadata": {
        "id": "BTV7N6jh7tlU"
      },
      "execution_count": null,
      "outputs": []
    },
    {
      "cell_type": "code",
      "source": [
        "def normalize(images):\n",
        "  images = images/255\n",
        "  return images\n",
        "\n",
        "# Normalizamos los datos\n",
        "x_train = normalize(x_train)\n",
        "x_test = normalize(x_test)"
      ],
      "metadata": {
        "id": "AwSg-HPSatYb"
      },
      "execution_count": 5,
      "outputs": []
    },
    {
      "cell_type": "markdown",
      "source": [
        "<br>"
      ],
      "metadata": {
        "id": "N98UZtr3AoZk"
      }
    },
    {
      "cell_type": "markdown",
      "source": [
        "## RED NEURONAL FULLY CONNECTED (MULTYLAYER PERCEPTRON)"
      ],
      "metadata": {
        "id": "pxya2VE7ZssB"
      }
    },
    {
      "cell_type": "markdown",
      "source": [
        "En este ejemplo construiremos la red neuronal densa que se muestra acontinuación:"
      ],
      "metadata": {
        "id": "pz51TYASZ41R"
      }
    },
    {
      "cell_type": "markdown",
      "source": [
        "<center>\n",
        "<img src=https://gitlab.com/luis.guayacan1/semillero_macv_2022-1/-/raw/main/S9-Activity/arquitectura.png width=\"700\">\n",
        "</center>"
      ],
      "metadata": {
        "id": "uOm7Uh6saQlA"
      }
    },
    {
      "cell_type": "markdown",
      "source": [
        "Si desean avanzar por su propia cuenta, o entender mejor el funcionamiento de algún método en particular, pueden encontrar la documentación oficial de tf.keras en [este enlace](https://www.tensorflow.org/api_docs/python/tf/keras/)."
      ],
      "metadata": {
        "id": "24CnbfhOZi3j"
      }
    },
    {
      "cell_type": "markdown",
      "source": [
        "<br>"
      ],
      "metadata": {
        "id": "04xEyaobeo-_"
      }
    },
    {
      "cell_type": "code",
      "source": [
        "# Creamos el modelo \n",
        "model_fc = tf.keras.models.Sequential()\n",
        "model_fc.add(tf.keras.layers.Flatten())\n",
        "model_fc.add(tf.keras.layers.Dense(128, activation='relu'))\n",
        "model_fc.add(tf.keras.layers.Dense(128, activation='relu'))\n",
        "model_fc.add(tf.keras.layers.Dense(10, activation='softmax'))"
      ],
      "metadata": {
        "id": "EzoZsuQba5oa"
      },
      "execution_count": 6,
      "outputs": []
    },
    {
      "cell_type": "code",
      "metadata": {
        "id": "KuQPdKw9TIdP"
      },
      "source": [
        "# Definimos algunos parámetros importantes para el entrenamiento\n",
        "model_fc.compile(optimizer='adam',\n",
        "              loss='sparse_categorical_crossentropy',\n",
        "              metrics=['accuracy'])"
      ],
      "execution_count": 7,
      "outputs": []
    },
    {
      "cell_type": "code",
      "source": [
        "# Entrenamos el modelo\n",
        "history_fc = model_fc.fit(x_train, y_train, epochs=3, batch_size=32)"
      ],
      "metadata": {
        "id": "FZY1kXi_bCow"
      },
      "execution_count": null,
      "outputs": []
    },
    {
      "cell_type": "code",
      "source": [
        "# visualizamos la información de las capas de nuestro modelo\n",
        "model_fc.summary()"
      ],
      "metadata": {
        "id": "bgd_3oeR17XU"
      },
      "execution_count": null,
      "outputs": []
    },
    {
      "cell_type": "code",
      "metadata": {
        "id": "53-FsRxzWQhQ"
      },
      "source": [
        "# Ver la funcion de perdida en cada epoch\n",
        "plt.xlabel(\"# Epoch\");\n",
        "plt.ylabel(\"Loss\");\n",
        "plt.plot(history_fc.history[\"loss\"]);"
      ],
      "execution_count": null,
      "outputs": []
    },
    {
      "cell_type": "code",
      "source": [
        "# Evaluamos el modelo con los datos de test\n",
        "val_loss, val_acc = model_fc.evaluate(x_test, y_test)"
      ],
      "metadata": {
        "id": "uyqwOTfzdvgi"
      },
      "execution_count": null,
      "outputs": []
    },
    {
      "cell_type": "markdown",
      "source": [
        "<br>"
      ],
      "metadata": {
        "id": "72px-wj0pdiZ"
      }
    },
    {
      "cell_type": "markdown",
      "source": [
        "# RED NEURONAL CONVOLUCIONAL (CNN)"
      ],
      "metadata": {
        "id": "ArZf3CTk18D2"
      }
    },
    {
      "cell_type": "markdown",
      "source": [
        "En este ejemplo construiremos la red neuronal convolucional que se muestra acontinuación:"
      ],
      "metadata": {
        "id": "J4ANcVnSjRjq"
      }
    },
    {
      "cell_type": "markdown",
      "source": [
        "<center>\n",
        "<img src=https://gitlab.com/luis.guayacan1/semillero_macv_2022-1/-/raw/main/S11-Activity/CNN.png width=\"700\">\n",
        "</center>"
      ],
      "metadata": {
        "id": "yUYihWQjfLp_"
      }
    },
    {
      "cell_type": "code",
      "source": [
        "# Creamos el modelo \n",
        "model_cnn = tf.keras.models.Sequential()\n",
        "model_cnn.add(tf.keras.layers.Conv2D(32, (3,3), input_shape=(28,28,1),activation='relu'))\n",
        "model_cnn.add(tf.keras.layers.MaxPooling2D(2,2))\n",
        "\n",
        "model_cnn.add(tf.keras.layers.Conv2D(32, (3,3),activation='relu'))\n",
        "model_cnn.add(tf.keras.layers.MaxPooling2D(2,2))\n",
        "\n",
        "model_cnn.add(tf.keras.layers.Flatten())\n",
        "\n",
        "model_cnn.add(tf.keras.layers.Dense(100, activation='relu'))\n",
        "model_cnn.add(tf.keras.layers.Dense(10, activation='softmax'))"
      ],
      "metadata": {
        "id": "wq49IO_F2Ed3"
      },
      "execution_count": 8,
      "outputs": []
    },
    {
      "cell_type": "code",
      "source": [
        "# Definimos algunos parámetros importantes para el entrenamiento\n",
        "model_cnn.compile(optimizer='adam',\n",
        "              loss='sparse_categorical_crossentropy',\n",
        "              metrics=['accuracy'])"
      ],
      "metadata": {
        "id": "YDJu56ym80JD"
      },
      "execution_count": 9,
      "outputs": []
    },
    {
      "cell_type": "code",
      "source": [
        "# Entrenamos el modelo\n",
        "history_cnn = model_cnn.fit(x_train, y_train, epochs=3, batch_size=32)"
      ],
      "metadata": {
        "id": "MNm9csgV-m-r"
      },
      "execution_count": null,
      "outputs": []
    },
    {
      "cell_type": "code",
      "source": [
        "# visualizamos la información de las capas de nuestro modelo\n",
        "model_cnn.summary()"
      ],
      "metadata": {
        "id": "EEyQhGct-qIy"
      },
      "execution_count": null,
      "outputs": []
    },
    {
      "cell_type": "code",
      "source": [
        "# Ver la funcion de perdida en cada epoch\n",
        "plt.xlabel(\"# Epoch\");\n",
        "plt.ylabel(\"Loss\");\n",
        "plt.plot(history_cnn.history[\"loss\"]);\n"
      ],
      "metadata": {
        "id": "voO7KquHCDv4"
      },
      "execution_count": null,
      "outputs": []
    },
    {
      "cell_type": "code",
      "source": [
        "# Evaluamos el modelo con los datos de test\n",
        "val_loss, val_acc = model_cnn.evaluate(x_test, y_test)"
      ],
      "metadata": {
        "id": "vXTx-q8hCIdc"
      },
      "execution_count": null,
      "outputs": []
    },
    {
      "cell_type": "markdown",
      "source": [
        "<br>"
      ],
      "metadata": {
        "id": "qlrSJueclvt3"
      }
    },
    {
      "cell_type": "markdown",
      "source": [
        "# ACTIVIDAD"
      ],
      "metadata": {
        "id": "oSfWDFieUPnf"
      }
    },
    {
      "cell_type": "markdown",
      "source": [
        "1. Explica cómo se obtiene (de dónde sale) la cantidad de parámetros **100480** de la capa **dense_2 (Dense)** de la red Fully Connected."
      ],
      "metadata": {
        "id": "gIASITP6gcih"
      }
    },
    {
      "cell_type": "markdown",
      "source": [
        ">> Da doble click en esta celda e ingresa tu respuesta <<"
      ],
      "metadata": {
        "id": "WH9ltwgGgpHf"
      }
    },
    {
      "cell_type": "markdown",
      "source": [
        "<br>"
      ],
      "metadata": {
        "id": "_AWxjsCqJNv8"
      }
    },
    {
      "cell_type": "markdown",
      "source": [
        "2. Explica cómo se obtiene (de dónde sale) la cantidad de parámetros **9248** de la capa **conv2d_5 (Conv2D)** de la red Convolucional."
      ],
      "metadata": {
        "id": "wWIfYf8BhQs5"
      }
    },
    {
      "cell_type": "markdown",
      "source": [
        ">> Da doble click en esta celda e ingresa tu respuesta <<"
      ],
      "metadata": {
        "id": "yIzIGaEuhi1m"
      }
    },
    {
      "cell_type": "markdown",
      "source": [
        "<br>"
      ],
      "metadata": {
        "id": "fXxa_MPOJQ32"
      }
    },
    {
      "cell_type": "markdown",
      "source": [
        "3.   Escribe algunas razones por las que las redes convolucionales se desempeñan mejor que las fully connected cuando los datos son imágenes."
      ],
      "metadata": {
        "id": "WuiS6EuwIfpc"
      }
    },
    {
      "cell_type": "markdown",
      "source": [
        ">> Da doble click en esta celda e ingresa tu respuesta <<"
      ],
      "metadata": {
        "id": "qBPb-uf0JEd-"
      }
    },
    {
      "cell_type": "markdown",
      "source": [
        "<br>"
      ],
      "metadata": {
        "id": "AekfXrnZJSKH"
      }
    },
    {
      "cell_type": "markdown",
      "source": [
        "4. Varía la cantidad de epochs de las dos redes e identifica cuál parece ser el número \"apropiado\" de epochs para cada una según tu criterio (explica tu respuesta).\n",
        "_Ten en cuenta que cada epoch de la CNN tarda aproximadamente 50 segundos._"
      ],
      "metadata": {
        "id": "g9fNnY91hjcm"
      }
    },
    {
      "cell_type": "markdown",
      "source": [
        ">> Da doble click en esta celda e ingresa tu respuesta <<"
      ],
      "metadata": {
        "id": "v1G3pwLhlGkk"
      }
    }
  ]
}